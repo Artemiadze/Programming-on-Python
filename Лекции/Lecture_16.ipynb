{
 "cells": [
  {
   "cell_type": "markdown",
   "metadata": {},
   "source": [
    "# Python-1, лекция 16\n",
    "## Многопоточность в Python"
   ]
  },
  {
   "cell_type": "markdown",
   "metadata": {},
   "source": [
    "1. [Теоретические аспекты](#theory)\n",
    "2. [Поток и процесс. Создание процессов и процессов](#process)\n",
    "3. [Передача данных между потоками при помощи pipe и общей памяти](#gen)\n",
    "4. [GIL](#GIL)\n",
    "5. [Асинхронное выполнение потоков](#asynchronous)\n",
    "6. [Библиотеки threading, multiprocessing и asyncio](#threading)"
   ]
  },
  {
   "cell_type": "markdown",
   "metadata": {},
   "source": [
    "## Теоретические аспекты. <a name=\"theory\"></a>\n",
    "- Процесс - это программа, которая выполняется в отдельном\n",
    "виртуальном адресном пространстве.\n",
    "- Поток(thread) — наименьшая единица обработки, исполнение\n",
    "которой может быть назначено ядром операционной системы.\\\n",
    "Несколько потоков выполнения могут существовать в рамках\n",
    "одного и того же процесса и совместно использовать ресурсы,\n",
    "такие как память, тогда как процессы не разделяют этих ресурсов.\n",
    "- Многопоточность — способность платформы (например\n",
    "виртуальной машины, операционной системы и т.д.) или\n",
    "приложения выполнять одновременно, то есть без предписанного\n",
    "порядка во времени, несколько параллельных задач — потоков.\n",
    "\n",
    "![потоки](cartoons/threat.jpg)"
   ]
  },
  {
   "cell_type": "markdown",
   "metadata": {},
   "source": [
    "## Цели параллельного программирования\n",
    "\n",
    "Три главные цели параллельного программирования (в дополнение к целям последовательного программирования):\n",
    "\n",
    "1. Производительность\n",
    "2. Эффективность\n",
    "3. Общность\n",
    "\n",
    "### Производительность\n",
    "\n",
    "Тем не менее фокус производительности сдвинулся с аппаратного обеспечения к параллельному программному обеспечению. Этот сдвиг происходит из-за того, что хотя закон Мура продолжает приносить увеличение плотности транзисторов, он перестал увеличивать производительность для традиционных однопоточных программ. Это можно увидеть на графике 1, который показывает, что написание однопоточного кода и простое ожидание догона процессора до нужной производительности через год или два, может уже не быть подходящим вариантом. Учитывая последние тенденции всех главных производителей по отношению к мультиядерным/мультипоточным системам, параллелизм - это выход для тех, кто хочет достичь максимальной производительности от системы.\n",
    "\n",
    "![photo_1](cartoons/clockfreq.png)\n",
    "\n",
    "График 1: Тенденция показателя MIPS/тактовая частота для процессоров Intel\n",
    "\n",
    "Даже так, производительность является более важной, чем масштабируемость, особенно учитывая, что наиболее простой способ достичь линейной масштабируемости - это понизить производительность каждого процессора [Tor01]. Если вам дана 4-процессорная система, что вы предпочтете: программу, которая выполняет 100 транзакций в секунду на одном процессоре, но не масштабируется или программу, которая выполняет 10 транзакций в секунду, но отлично масштабируется? Первый вариант смотрится лучше, однако ответ может изменится, если у вас появится 32-процессорная система. \n",
    "\n",
    "Однако, только потому, что у вас есть несколько процессоров, вы не обязаны всех их использовать. Даже учитывая недавние уменьшение цен на мультипроцессорные системы. Ключевая идея в том, что параллельное программирование по своей сути - это оптимизация производительности и, следовательно, все лишь возможная оптимизация из многих доступных. Если ваша программа достаточна быстра в таком виде, в котором она сейчас написана, нет причины оптимизировать ее как путем распараллеливания, так и путем применения потенциальных \"классических\" последовательных оптимизаций. Кстати, если вы собираетесь применить параллелизм как оптимизацию к последовательной программе, вам надо будет сравнивать параллельные алгоритмы с лучшими последовательными. Это может потребовать некоторого внимания, так как слишком много работ при анализе производительности параллельных алгоритмов игнорируют их последовательные аналоги.\n",
    "\n",
    "### Эффективность\n",
    "\n",
    "Сегодня достаточно трудно купить машину с такой маленькой вычислительной мощностью. Возможно, ближайший эквивалент - это 8-битный встраиваемый микропроцессор на базе древнего Z80 [Wik08], но даже старый Z80 имел тактовую частоту процессора, более чем в 1000 раз превышающую CSIRAC. Процессор Z80 имел 8500 тысяч транзисторов и мог быть куплен в 2008 году менее, чем за 2$ US за штуку партиями по тысяче. На контрасте с CSIRAC, цена разработки программного обеспечения может являться всем, чем угодно, но не важным фактором для Z80.\n",
    "\n",
    "CSIRAC и Z80 - две точки в долговременной тенденции, как мы можем видеть на графике 2.\n",
    "\n",
    "![photo_2](cartoons/mipsperbuck.png)\n",
    "\n",
    "График 2: MIPS на кристалл для процессоров Intel\n",
    "\n",
    "Этот график отображает аппроксимацию вычислительной мощности на кристалл за последние три десятилетия и показывает постоянное увеличение этой величины на 4 порядка. Надо учитывать, что приход мультиядерных процессоров сделал возможным продолжение этого увеличения, несмотря на потолок тактовой частоты, с которым столкнулись инженеры в 2003 году.\n",
    "\n",
    "Одно из неизбежных последствий быстрого уменьшения цен на аппаратное обеспечение, это то, что эффективность программного обеспечения становится все более важной. Теперь недостаточно просто эффективно использовать \"железо\": вместе с ним необходимо крайне эффективно использовать разработчиков ПО. Это давно уже не новость для последовательного аппаратного обеспечения, но параллельное аппаратное обеспечение стало недорогим только недавно. Именно поэтому высокая эффективность стала критично важной при создании параллельного программного обеспечения.\n"
   ]
  },
  {
   "cell_type": "markdown",
   "metadata": {},
   "source": [
    "### Общность\n",
    "Один из способов оправдать высокую цену разработки параллельного программного обеспечения, это достижение максимальной общности. При всех прочих равных, более общий программный артефакт может быть распространен между большим количеством пользователей, чем менее общий.\n",
    "\n",
    "К сожалению, за счет общности часто приходится жертвовать производительностью, эффективностью или тем и другим. Для того чтобы увидеть это, рассмотрим следующие популярные программные среды:\n",
    "\n",
    "С/C++ \"блокировки плюс потоки\" : Эта категория, которая включает потоки POSIX (pthreads) [Ope97], потоки Windows и другие среды уровня ядра операционной системы, предлагает отличную производительность (по крайней мере в границах одной симметричной мультипроцессорной системы (SMP-системы)) и хорошую общность. Жаль, что только эффективность относительно низка.\n",
    "\n",
    "Java : Это язык общего назначения и по своей природе мультипоточная программная среда. Он, по широко распространенному мнению, предлагает большую эффективность, чем C или C++ за счет автоматической сборки мусора и большой стандартной библиотеки. Однако его производительность, несмотря на то что она была сильна улучшена в начале 2000-х годов, уступает С и С++.\n",
    "\n",
    "MPI : Этот интерфейс передачи сообщений [MPI08], на котором работают крупнейшие научные и технические вычислительные кластерами в мире. Он предлагает не имеющие равных производительность и масштабируемость. В теории, MPI является интерфейсом общего назначения, но в большинстве своем он используется для научных и технических вычислений. Его эффективность, по мнению многих, даже ниже, чем у подхода С/C++ \"блокировки плюс потоки\".\n",
    "\n",
    "OpenMP : Это набор директив для компилятора, который может быть использован для распараллеливания циклов. Следовательно, он крайне специфичен для этой задачи и она (специфичность) часто ограничивает производительность. Однако, OpenMP намного легче в использовании, чем MPI или С/C++ \"блокировки плюс потоки\".\n",
    "\n",
    "SQL : Язык структурных запросов [Int92] специфичен для реляционных баз данных. Однако его производительность достаточно хороша, что показано тестами совета по производительности обработки транзакций (TPC benchmark) [Tra01]. Эффективность отлична. Факт, что SQL позволяет людям эффективно использовать большие параллельные системы, несмотря на малые знания - или их отсутствие - о принципах параллельного программирования.\n",
    "\n",
    "Нирвана сред параллельного программирования - та, которая предложит производительность мирового уровня, эффективность и общность - просто пока не существует. До тех пор, пока такая нирвана не появится, необходимо будет искать инженерные компромиссы между производительностью, эффективностью и общностью. Один из таких компромиссов показан на графике 2.3, который показывает, как эффективность становится все более важной на верхних уровнях системного стека, в то время как производительность и общность на более низких.\n",
    "\n",
    "![photo_3](cartoons/ppgrelation.png)\n",
    "\n",
    "График 3: Уровни программного обеспечения и производительность, эффективность и общность."
   ]
  },
  {
   "cell_type": "markdown",
   "metadata": {},
   "source": [
    "## Поток и процесс. Создание нитей (потоков) и процессов. <a name=\"process\"></a>"
   ]
  },
  {
   "cell_type": "code",
   "execution_count": 1,
   "metadata": {},
   "outputs": [
    {
     "name": "stdout",
     "output_type": "stream",
     "text": [
      "Thread-1: Fri Apr  4 09:21:24 2025\n",
      "Thread-2: Fri Apr  4 09:21:26 2025Thread-1: Fri Apr  4 09:21:26 2025\n",
      "\n",
      "Thread-1: Fri Apr  4 09:21:28 2025\n",
      "Thread-1: Fri Apr  4 09:21:30 2025Thread-2: Fri Apr  4 09:21:30 2025\n",
      "\n",
      "Thread-1: Fri Apr  4 09:21:32 2025\n",
      "Thread-2: Fri Apr  4 09:21:34 2025\n",
      "Thread-2: Fri Apr  4 09:21:38 2025\n",
      "Thread-2: Fri Apr  4 09:21:42 2025\n"
     ]
    },
    {
     "ename": "KeyboardInterrupt",
     "evalue": "",
     "output_type": "error",
     "traceback": [
      "\u001b[1;31m---------------------------------------------------------------------------\u001b[0m",
      "\u001b[1;31mKeyboardInterrupt\u001b[0m                         Traceback (most recent call last)",
      "Cell \u001b[1;32mIn[1], line 19\u001b[0m\n\u001b[0;32m     16\u001b[0m \u001b[38;5;28;01mexcept\u001b[39;00m:\n\u001b[0;32m     17\u001b[0m    \u001b[38;5;28mprint\u001b[39m(\u001b[38;5;124m\"\u001b[39m\u001b[38;5;124mError: unable to start thread\u001b[39m\u001b[38;5;124m\"\u001b[39m)\n\u001b[1;32m---> 19\u001b[0m \u001b[38;5;28;01mwhile\u001b[39;00m \u001b[38;5;241m1\u001b[39m:\n\u001b[0;32m     20\u001b[0m    \u001b[38;5;28;01mpass\u001b[39;00m\n",
      "\u001b[1;31mKeyboardInterrupt\u001b[0m: "
     ]
    }
   ],
   "source": [
    "import _thread\n",
    "import time\n",
    "\n",
    "# Define a function for the thread\n",
    "def print_time(threadName, delay):\n",
    "   count = 0\n",
    "   while count < 5:\n",
    "      time.sleep(delay)\n",
    "      count += 1\n",
    "      print(\"%s: %s\" % (threadName, time.ctime(time.time())))\n",
    "\n",
    "# Create two threads as follows\n",
    "try:\n",
    "   _thread.start_new_thread(print_time, (\"Thread-1\", 2,))\n",
    "   _thread.start_new_thread(print_time, (\"Thread-2\", 4,))\n",
    "except:\n",
    "   print(\"Error: unable to start thread\")\n",
    "\n",
    "while 1:\n",
    "   pass"
   ]
  },
  {
   "cell_type": "markdown",
   "metadata": {},
   "source": [
    "Можем здесь заметить такую вещь как race condition. Вторая нить не успела распечатать свой перевод строки, так как первая нить начала печатать.\n",
    "\n",
    "### Race Condition или состояние гонки.\n",
    "\n",
    "![photo_4](cartoons/race.png)\n",
    "\n",
    "На изображении мы видим два запуска одной и той же программы, в которой есть два потока: в первом функция увеличивает переданное число на единицу, а во втором — мы умножаем число на 2.\n",
    "\n",
    "Слева вы видите первый запуск программы. Первый поток берет значение из глобальной переменной x, прибавляет 1 и записывает в x результат = 3. Затем второй поток начинает работу. Он берет из переменной x значение 3, умножает на 2 и записывает результат = 6. На правой схеме – второй запуск программы, где сперва в работу вступает поток 2, он выполняет те же операции, берет x = 2, умножает на 2 и фиксирует результат 4. Затем вступает  поток 1, читает 4 из x, увеличивает на единицу и записывает 5. Так как оба потока меняли порядок работы программы, но выполняли ее по очереди, у нас не возникало никакого конфликта, и мы получали ожидаемый результат.\n",
    "\n",
    "Но давайте посмотрим на такой поток выполнения:\n",
    "\n",
    "![photo_5](cartoons/race_2.png)\n",
    " \n",
    "Поток 1 вступает в работу, читает переменную x и переключает контекст на поток 2 (context switch). Затем поток 2 берет значение из x = 2, умножает на 2 и записывает в x = 4. Процессор переключает контекст на поток 1, а в потоке 1, как мы помним, сохранено значение x = 2. В итоге он увеличивает значение на единицу и записывает в x = 3, а значит, на выходе мы получаем 3.\n",
    "\n",
    "Один поток обогнал другой при переключении контекста, и мы получили непредсказуемый результат. Такое событие называется Race condition. Как тогда быть уверенным в том, что поток, взявший в работу какие-то данные, выполнит свою работу, перед тем как переключит свой контекст на другой потоку?"
   ]
  },
  {
   "cell_type": "markdown",
   "metadata": {},
   "source": [
    "### Запуск потока с применением threading"
   ]
  },
  {
   "cell_type": "code",
   "execution_count": 1,
   "metadata": {},
   "outputs": [],
   "source": [
    "import threading\n",
    "import time\n",
    "\n",
    "\n",
    "class MyThread(threading.Thread):\n",
    "    def __init__(self, name, delay):\n",
    "        threading.Thread.__init__(self)\n",
    "        self.name = name\n",
    "        self.delay = delay\n",
    "\n",
    "    def run(self):\n",
    "        print('Starting thread %s.' % self.name)\n",
    "        thread_count_down(self.name, self.delay)\n",
    "        print('Finished thread %s.' % self.name)\n",
    "\n",
    "def thread_count_down(name, delay):\n",
    "    counter = 5\n",
    "\n",
    "    while counter:\n",
    "        time.sleep(delay)\n",
    "        print('Thread %s counting down: %i...' % (name, counter))\n",
    "        counter -= 1"
   ]
  },
  {
   "cell_type": "code",
   "execution_count": 2,
   "metadata": {},
   "outputs": [],
   "source": [
    "import threading\n",
    "\n",
    "class MyThread(threading.Thread):\n",
    "    def __init__(self, x):\n",
    "        threading.Thread.__init__(self)\n",
    "        self.x = x\n",
    "\n",
    "    def run(self):\n",
    "        print('Starting processing %i...' % x)\n",
    "        # is_prime(self.x)"
   ]
  },
  {
   "cell_type": "code",
   "execution_count": 3,
   "metadata": {},
   "outputs": [
    {
     "name": "stdout",
     "output_type": "stream",
     "text": [
      "Starting processing 2...\n",
      "Starting processing 193...\n",
      "Starting processing 323...\n",
      "Starting processing 1327...\n",
      "Starting processing 433785907...\n",
      "Finished.\n"
     ]
    }
   ],
   "source": [
    "my_input = [2, 193, 323, 1327, 433785907]\n",
    "\n",
    "threads = []\n",
    "\n",
    "for x in my_input:\n",
    "    temp_thread = MyThread(x)\n",
    "    temp_thread.start()\n",
    "\n",
    "    threads.append(temp_thread)\n",
    "\n",
    "for thread in threads:\n",
    "    thread.join()\n",
    "\n",
    "print('Finished.')"
   ]
  },
  {
   "cell_type": "markdown",
   "metadata": {},
   "source": [
    "## Передача данных между потоками при помощи pipe и общей памяти <a name=\"gen\"></a>"
   ]
  },
  {
   "cell_type": "markdown",
   "metadata": {},
   "source": [
    "### Queue"
   ]
  },
  {
   "cell_type": "markdown",
   "metadata": {},
   "source": [
    "Queue предоставляет нам механизм взаимодействия потоков между процессами FIFO (первым пришел — первым обслужен)."
   ]
  },
  {
   "cell_type": "code",
   "execution_count": null,
   "metadata": {},
   "outputs": [],
   "source": [
    "from multiprocessing import Process, Queue\n",
    "import random\n",
    "\n",
    "def f(q):\n",
    "    \"\"\"Function to be run in a separate process.\n",
    "    This function will put three items in the queue:\"\"\"\n",
    "    q.put([42, None, 'hello'])\n",
    "\n",
    "def main():\n",
    "    q = Queue() # create a queue\n",
    "    p = Process(target = f, args = (q,)) # create a process\n",
    "    p.start()\n",
    "    print(q.get())\n",
    "    \n",
    "if __name__ == '__main__':\n",
    "    main()"
   ]
  },
  {
   "cell_type": "markdown",
   "metadata": {},
   "source": [
    "[42, None, 'hello']"
   ]
  },
  {
   "cell_type": "markdown",
   "metadata": {},
   "source": [
    "### Pipe"
   ]
  },
  {
   "cell_type": "markdown",
   "metadata": {},
   "source": [
    "Это структура данных, которая используется для связи между процессами в многопроцессорных программах. Функция Pipe() возвращает пару объектов соединения, соединенных каналом, который по умолчанию является дуплексным (двухсторонним). Работа Pipe происходит следующим образом. Pipe возвращает пару объектов соединения, которые представляют два конца канала. У каждого объекта есть два метода — send() и recv() для взаимодействия между процессами."
   ]
  },
  {
   "cell_type": "code",
   "execution_count": null,
   "metadata": {},
   "outputs": [],
   "source": [
    "from multiprocessing import Process, Pipe\n",
    "\n",
    "def process2(conn):\n",
    "    '''Function to be run in a separate process.\n",
    "    This function will send three items through the pipe:'''\n",
    "    conn.send([42, None, 'hello'])\n",
    "    x = conn.recv()\n",
    "    print(f'f: x={x}')\n",
    "    conn.close()\n",
    "\n",
    "if __name__ == '__main__':\n",
    "    parent_conn, child_conn = Pipe()\n",
    "    p = Process(target = process2, args = (child_conn,))\n",
    "    p.start()\n",
    "    y = parent_conn.recv()\n",
    "    print(y)\n",
    "    parent_conn.send(y[::-1])\n",
    "    p.join()"
   ]
  },
  {
   "cell_type": "markdown",
   "metadata": {},
   "source": [
    "[42, None, 'hello']"
   ]
  },
  {
   "cell_type": "markdown",
   "metadata": {},
   "source": [
    "### Менеджер"
   ]
  },
  {
   "cell_type": "markdown",
   "metadata": {},
   "source": [
    "Менеджер — это класс многопроцессорных модулей, который обеспечивает способ координации общей информации между всеми его пользователями. Управляющий объект управляет процессом сервера, который управляет общими объектами и позволяет другим процессам манипулировать ими. Другими словами, менеджеры предоставляют способ создавать данные, которые могут быть разделены между различными процессами. Ниже приведены различные свойства объекта менеджера —\n",
    "\n",
    "Основным свойством менеджера является управление серверным процессом, который управляет общими объектами.\n",
    "\n",
    "Другим важным свойством является обновление всех общих объектов, когда какой-либо процесс изменяет их.\n",
    "\n",
    "Основным свойством менеджера является управление серверным процессом, который управляет общими объектами.\n",
    "\n",
    "Другим важным свойством является обновление всех общих объектов, когда какой-либо процесс изменяет их."
   ]
  },
  {
   "cell_type": "markdown",
   "metadata": {},
   "source": [
    "Пример ниже использует объект менеджера для создания записи списка в процессе сервера, а затем добавления новой записи в этот список."
   ]
  },
  {
   "cell_type": "code",
   "execution_count": 6,
   "metadata": {},
   "outputs": [],
   "source": [
    "import multiprocessing\n",
    "\n",
    "def print_records(records):\n",
    "    for record in records:\n",
    "        print(\"Name: {0}\\nScore: {1}\\n\".format(record[0], record[1]))\n",
    "\n",
    "def insert_record(record, records):\n",
    "    records.append(record)\n",
    "    print(\"A New record is added\\n\")\n",
    "\n",
    "if __name__ == '__main__':\n",
    "    with multiprocessing.Manager() as manager:\n",
    "        \n",
    "        records = manager.list([('Computers', 1), ('Histoty', 5), ('Hindi',9)])\n",
    "        new_record = ('English', 3)\n",
    "        \n",
    "        p1 = multiprocessing.Process(target = insert_record, args = (new_record, records))\n",
    "        p2 = multiprocessing.Process(target = print_records, args = (records,))\n",
    "        p1.start()\n",
    "        p1.join()\n",
    "        p2.start()\n",
    "        p2.join()"
   ]
  },
  {
   "cell_type": "markdown",
   "metadata": {},
   "source": [
    "A New record is added\n",
    "\n",
    "Name: Computers\n",
    "\n",
    "Score: 1\n",
    "\n",
    "Name: Histoty\n",
    "\n",
    "Score: 5\n",
    "\n",
    "Name: Hindi\n",
    "\n",
    "Score: 9\n",
    "\n",
    "Name: English\n",
    "\n",
    "Score: 3"
   ]
  },
  {
   "cell_type": "markdown",
   "metadata": {},
   "source": [
    "Использование пространства имен для обмена данными между основным процессом и дочерним процессом."
   ]
  },
  {
   "cell_type": "code",
   "execution_count": null,
   "metadata": {},
   "outputs": [],
   "source": [
    "import multiprocessing\n",
    "\n",
    "def Mng_NaSp(using_ns):\n",
    "    \n",
    "    using_ns.x +=5\n",
    "    using_ns.y *= 10\n",
    "\n",
    "if __name__ == '__main__':\n",
    "    manager = multiprocessing.Manager()\n",
    "    using_ns = manager.Namespace()\n",
    "    using_ns.x = 1\n",
    "    using_ns.y = 1\n",
    "    \n",
    "    print ('before', using_ns)\n",
    "    p = multiprocessing.Process(target = Mng_NaSp, args = (using_ns,))\n",
    "    p.start()\n",
    "    p.join()\n",
    "    print ('after', using_ns)"
   ]
  },
  {
   "cell_type": "code",
   "execution_count": null,
   "metadata": {},
   "outputs": [],
   "source": [
    "before Namespace(x = 1, y = 1)\n",
    "\n",
    "after Namespace(x = 6, y = 10)"
   ]
  },
  {
   "cell_type": "markdown",
   "metadata": {},
   "source": [
    "### Библиотека Python — PyCSP"
   ]
  },
  {
   "cell_type": "code",
   "execution_count": 18,
   "metadata": {},
   "outputs": [
    {
     "name": "stdout",
     "output_type": "stream",
     "text": [
      "Collecting PyCSP\n",
      "  Downloading pycsp-0.9.2.tar.gz (118 kB)\n",
      "  Installing build dependencies: started\n",
      "  Installing build dependencies: finished with status 'done'\n",
      "  Getting requirements to build wheel: started\n",
      "  Getting requirements to build wheel: finished with status 'done'\n",
      "  Preparing metadata (pyproject.toml): started\n",
      "  Preparing metadata (pyproject.toml): finished with status 'done'\n",
      "Building wheels for collected packages: PyCSP\n",
      "  Building wheel for PyCSP (pyproject.toml): started\n",
      "  Building wheel for PyCSP (pyproject.toml): finished with status 'done'\n",
      "  Created wheel for PyCSP: filename=pycsp-0.9.2-py3-none-any.whl size=88000 sha256=aa9ebd54ad21f0dfda3a3bc5b9570d9f0e2cdc38837530574f7ecc3c92f94099\n",
      "  Stored in directory: c:\\users\\artvl\\appdata\\local\\pip\\cache\\wheels\\2b\\96\\bd\\66c507dc3acdaddcee2475efb15c9faf45265443a4c1768e2f\n",
      "Successfully built PyCSP\n",
      "Installing collected packages: PyCSP\n",
      "Successfully installed PyCSP-0.9.2\n"
     ]
    }
   ],
   "source": [
    "!pip install PyCSP"
   ]
  },
  {
   "cell_type": "markdown",
   "metadata": {},
   "source": [
    "Пример запуска двух процессов параллельно друг другу."
   ]
  },
  {
   "cell_type": "code",
   "execution_count": 19,
   "metadata": {},
   "outputs": [
    {
     "name": "stdout",
     "output_type": "stream",
     "text": [
      "P1 exitingP2 exiting\n",
      "\n",
      "Terminating\n"
     ]
    }
   ],
   "source": [
    "from pycsp.parallel import *\n",
    "import time\n",
    "@process\n",
    "def P1():\n",
    "   time.sleep(1)\n",
    "   print('P1 exiting')\n",
    "@process\n",
    "def P2():\n",
    "   time.sleep(1)\n",
    "   print('P2 exiting')\n",
    "def main():\n",
    "   Parallel(P1(), P2())\n",
    "   print('Terminating')\n",
    "if __name__ == '__main__':\n",
    "   main()"
   ]
  },
  {
   "cell_type": "markdown",
   "metadata": {},
   "source": [
    "## GIL <a name=\"GIL\"></a>"
   ]
  },
  {
   "cell_type": "markdown",
   "metadata": {},
   "source": [
    "Python Global Interpreter Lock (GIL) — это своеобразная блокировка, позволяющая только одному потоку управлять интерпретатором Python. "
   ]
  },
  {
   "cell_type": "markdown",
   "metadata": {},
   "source": [
    "Пример кода, демонстрирующий работу переменных подсчёта ссылок:"
   ]
  },
  {
   "cell_type": "code",
   "execution_count": 20,
   "metadata": {},
   "outputs": [
    {
     "data": {
      "text/plain": [
       "3"
      ]
     },
     "execution_count": 20,
     "metadata": {},
     "output_type": "execute_result"
    }
   ],
   "source": [
    "import sys\n",
    "\n",
    "a = []\n",
    "b = a\n",
    "sys.getrefcount(a)"
   ]
  },
  {
   "cell_type": "markdown",
   "metadata": {},
   "source": [
    "Несложная CPU-bound программа, которая ведёт обратный отсчёт:"
   ]
  },
  {
   "cell_type": "code",
   "execution_count": 21,
   "metadata": {},
   "outputs": [
    {
     "name": "stdout",
     "output_type": "stream",
     "text": [
      "Затраченное время - 1.701974630355835\n"
     ]
    }
   ],
   "source": [
    "import time\n",
    "from threading import Thread\n",
    "\n",
    "COUNT = 50000000\n",
    "\n",
    "def countdown(n):\n",
    "    while n > 0:\n",
    "        n -= 1\n",
    "\n",
    "start = time.time()\n",
    "countdown(COUNT)\n",
    "end = time.time()\n",
    "\n",
    "print('Затраченное время -', end - start)"
   ]
  },
  {
   "cell_type": "markdown",
   "metadata": {},
   "source": [
    "Запустив это на 4х-ядерном компьютере получим такой результат:\n",
    "\n",
    "Затраченное время - 6.20024037361145"
   ]
  },
  {
   "cell_type": "markdown",
   "metadata": {},
   "source": [
    "Реализация обратного отсчёта ведётся в двух параллельных потоках:"
   ]
  },
  {
   "cell_type": "code",
   "execution_count": 22,
   "metadata": {},
   "outputs": [
    {
     "name": "stdout",
     "output_type": "stream",
     "text": [
      "Затраченное время - 1.584949254989624\n"
     ]
    }
   ],
   "source": [
    "import time\n",
    "from threading import Thread\n",
    "\n",
    "COUNT = 50000000\n",
    "\n",
    "def countdown(n):\n",
    "    while n > 0:\n",
    "        n -= 1\n",
    "\n",
    "t1 = Thread(target=countdown, args=(COUNT//2,))\n",
    "t2 = Thread(target=countdown, args=(COUNT//2,))\n",
    "\n",
    "start = time.time()\n",
    "t1.start()\n",
    "t2.start()\n",
    "t1.join()\n",
    "t2.join()\n",
    "end = time.time()\n",
    "\n",
    "print('Затраченное время -', end - start)"
   ]
  },
  {
   "attachments": {
    "image.png": {
     "image/png": "[encoded data removed]"
    }
   },
   "cell_type": "markdown",
   "metadata": {},
   "source": [
    "![image.png](attachment:image.png)"
   ]
  },
  {
   "cell_type": "markdown",
   "metadata": {},
   "source": [
    "## Асинхронное выполнение потоков <a name=\"asynchronous\"></a>"
   ]
  },
  {
   "cell_type": "markdown",
   "metadata": {},
   "source": [
    "Асинхронная программа может одновременно обрабатывать задачи, но ее контекст переключается внутри, а не системным планировщиком."
   ]
  },
  {
   "cell_type": "markdown",
   "metadata": {},
   "source": [
    "## Библиотеки threading, multiprocessing и asyncio <a name=\"threading\"></a>"
   ]
  },
  {
   "cell_type": "code",
   "execution_count": 23,
   "metadata": {},
   "outputs": [],
   "source": [
    "from multiprocessing import Process\n",
    "\n",
    "def print_func(continent='Asia'):\n",
    "    print('The name of continent is : ', continent)\n",
    "\n",
    "if __name__ == \"__main__\":  # confirms that the code is under main function\n",
    "    names = ['America', 'Europe', 'Africa']\n",
    "    procs = []\n",
    "    proc = Process(target=print_func)  # instantiating without any argument\n",
    "    procs.append(proc)\n",
    "    proc.start()\n",
    "\n",
    "    # instantiating process with arguments\n",
    "    for name in names:\n",
    "        # print(name)\n",
    "        proc = Process(target=print_func, args=(name,))\n",
    "        procs.append(proc)\n",
    "        proc.start()\n",
    "\n",
    "    # complete the processes\n",
    "    for proc in procs:\n",
    "        proc.join()"
   ]
  },
  {
   "cell_type": "markdown",
   "metadata": {},
   "source": [
    "The name of continent is :  Asia\n",
    "    \n",
    "The name of continent is :  America\n",
    "    \n",
    "The name of continent is :  Europe\n",
    "    \n",
    "The name of continent is :  Africa"
   ]
  },
  {
   "cell_type": "code",
   "execution_count": 24,
   "metadata": {},
   "outputs": [
    {
     "name": "stdout",
     "output_type": "stream",
     "text": [
      "Searching prefix:Dear\n",
      "Dear James\n",
      "Closing coroutine!!\n"
     ]
    }
   ],
   "source": [
    "def print_name(prefix):\n",
    "    print(\"Searching prefix:{}\".format(prefix))\n",
    "    try : \n",
    "        while True:\n",
    "                # yeild used to create coroutine\n",
    "                name = (yield)\n",
    "                if prefix in name:\n",
    "                    print(name)\n",
    "    except GeneratorExit:\n",
    "            print(\"Closing coroutine!!\")\n",
    "            \n",
    "corou = print_name(\"Dear\")\n",
    "corou.__next__()\n",
    "corou.send(\"James\")\n",
    "corou.send(\"Dear James\")\n",
    "corou.close()"
   ]
  },
  {
   "cell_type": "markdown",
   "metadata": {},
   "source": [
    "Пример в котором запускаем 3 асинхронных таска, которые по-отдельности делают запросы к Reddit, извлекают и выводят содержимое JSON. "
   ]
  },
  {
   "cell_type": "markdown",
   "metadata": {},
   "source": [
    "Мы воспользовались aiohttp – клиентскую библиотеку http, которая гарантирует, что даже HTTP-запрос будет выполнен асинхронно."
   ]
  },
  {
   "cell_type": "code",
   "execution_count": null,
   "metadata": {},
   "outputs": [],
   "source": [
    "import signal  \n",
    "import sys  \n",
    "import asyncio  \n",
    "import aiohttp  \n",
    "import json\n",
    "\n",
    "loop = asyncio.get_event_loop()  \n",
    "client = aiohttp.ClientSession(loop=loop)\n",
    "\n",
    "async def get_json(client, url):  \n",
    "    async with client.get(url) as response:\n",
    "        assert response.status == 200\n",
    "        return await response.read()\n",
    "\n",
    "async def get_reddit_top(subreddit, client):  \n",
    "    data1 = await get_json(client, 'https://www.reddit.com/r/' + subreddit + '/top.json?sort=top&t=day&limit=5')\n",
    "\n",
    "    j = json.loads(data1.decode('utf-8'))\n",
    "    for i in j['data']['children']:\n",
    "        score = i['data']['score']\n",
    "        title = i['data']['title']\n",
    "        link = i['data']['url']\n",
    "        print(str(score) + ': ' + title + ' (' + link + ')')\n",
    "\n",
    "    print('DONE:', subreddit + '\\n')\n",
    "\n",
    "def signal_handler(signal, frame):  \n",
    "    loop.stop()\n",
    "    client.close()\n",
    "    sys.exit(0)\n",
    "\n",
    "signal.signal(signal.SIGINT, signal_handler)\n",
    "\n",
    "asyncio.ensure_future(get_reddit_top('python', client))  \n",
    "asyncio.ensure_future(get_reddit_top('programming', client))  \n",
    "asyncio.ensure_future(get_reddit_top('compsci', client))  \n",
    "loop.run_forever()"
   ]
  },
  {
   "cell_type": "markdown",
   "metadata": {},
   "source": [
    "50: Undershoot: Parsing theory in 1965 (http://jeffreykegler.github.io/Ocean-of-Awareness-blog/individual/2018/07/knuth_1965_2.html)\n",
    "\n",
    "12: Question about best-prefix/failure function/primal match table in kmp algorithm (https://www.reddit.com/r/compsci/comments/8xd3m2/question_about_bestprefixfailure_functionprimal/)\n",
    "\n",
    "1: Question regarding calculating the probability of failure of a RAID system (https://www.reddit.com/r/compsci/comments/8xbkk2/question_regarding_calculating_the_probability_of/)\n",
    "\n",
    "DONE: compsci\n",
    "\n",
    "336: /r/thanosdidnothingwrong -- banning people with python (https://clips.twitch.tv/AstutePluckyCocoaLitty)\n",
    "\n",
    "175: PythonRobotics: Python sample codes for robotics algorithms (https://atsushisakai.github.io/PythonRobotics/)\n",
    "\n",
    "23: Python and Flask Tutorial in VS Code (https://code.visualstudio.com/docs/python/tutorial-flask)\n",
    "\n",
    "17: Started a new blog on Celery - what would you like to read about? (https://www.python-celery.com)\n",
    "\n",
    "14: A Simple Anomaly Detection Algorithm in Python (https://medium.com/@mathmare_/pyng-a-simple-anomaly-detection-algorithm-2f355d7dc054)\n",
    "\n",
    "DONE: python\n",
    "\n",
    "1360: git bundle (https://dev.to/gabeguz/git-bundle-2l5o)\n",
    "\n",
    "1191: Which hashing algorithm is best for uniqueness and speed? Ian Boyd's answer (top voted) is one of the best comments I've seen on Stackexchange. (https://softwareengineering.stackexchange.com/questions/49550/which-hashing-algorithm-is-best-for-uniqueness-and-speed)\n",
    "\n",
    "430: ARM launches “Facts” campaign against RISC-V (https://riscv-basics.com/)\n",
    "\n",
    "244: Choice of search engine on Android nuked by “Anonymous Coward” (2009) (https://android.googlesource.com/platform/packages/apps/GlobalSearch/+/592150ac00086400415afe936d96f04d3be3ba0c)\n",
    "\n",
    "209: Exploiting freely accessible WhatsApp data or “Why does WhatsApp web know my phone’s battery level?” (https://medium.com/@juan_cortes/exploiting-freely-accessible-whatsapp-data-or-why-does-whatsapp-know-my-battery-level-ddac224041b4)\n",
    "\n",
    "DONE: programming"
   ]
  },
  {
   "cell_type": "markdown",
   "metadata": {},
   "source": [
    "### Библиотека multiprocessing"
   ]
  },
  {
   "cell_type": "code",
   "execution_count": null,
   "metadata": {},
   "outputs": [],
   "source": [
    "import os\n",
    "from multiprocessing import Process\n",
    " \n",
    "def doubler(number):\n",
    "    \"\"\"\n",
    "    Функция умножитель на два\n",
    "    \"\"\"\n",
    "    result = number * 2\n",
    "    proc = os.getpid()\n",
    "    print('{0} doubled to {1} by process id: {2}'.format(\n",
    "        number, result, proc))\n",
    " \n",
    " \n",
    "if __name__ == '__main__':\n",
    "    numbers = [5, 10, 15, 20, 25]\n",
    "    procs = []\n",
    "    \n",
    "    for index, number in enumerate(numbers):\n",
    "        proc = Process(target=doubler, args=(number,))\n",
    "        procs.append(proc)\n",
    "        proc.start()\n",
    "    \n",
    "    for proc in procs:\n",
    "        proc.join()"
   ]
  },
  {
   "cell_type": "markdown",
   "metadata": {},
   "source": [
    "5 doubled to 10 by process id: 10468\n",
    "    \n",
    "10 doubled to 20 by process id: 10469\n",
    "    \n",
    "15 doubled to 30 by process id: 10470\n",
    "    \n",
    "20 doubled to 40 by process id: 10471\n",
    "    \n",
    "25 doubled to 50 by process id: 10472"
   ]
  },
  {
   "cell_type": "code",
   "execution_count": null,
   "metadata": {},
   "outputs": [],
   "source": [
    "import os\n",
    "from multiprocessing import Process, current_process\n",
    "\n",
    "def doubler(number):\n",
    "    result = number * 2\n",
    "    proc_name = current_process().name\n",
    "    print('{0} doubled to {1} by: {2}'.format(\n",
    "        number, result, proc_name))\n",
    " \n",
    " \n",
    "if __name__ == '__main__':\n",
    "    numbers = [5, 10, 15, 20, 25]\n",
    "    procs = []\n",
    "    proc = Process(target=doubler, args=(5,))\n",
    "    \n",
    "    for index, number in enumerate(numbers):\n",
    "        proc = Process(target=doubler, args=(number,))\n",
    "        procs.append(proc)\n",
    "        proc.start()\n",
    "    \n",
    "    proc = Process(target=doubler, name='Test', args=(2,))\n",
    "    proc.start()\n",
    "    procs.append(proc)\n",
    "    \n",
    "    for proc in procs:\n",
    "        proc.join()"
   ]
  },
  {
   "cell_type": "markdown",
   "metadata": {},
   "source": [
    "5 doubled to 10 by: Process-2\n",
    "    \n",
    "10 doubled to 20 by: Process-3\n",
    "    \n",
    "15 doubled to 30 by: Process-4\n",
    "    \n",
    "20 doubled to 40 by: Process-5\n",
    "    \n",
    "25 doubled to 50 by: Process-6\n",
    "    \n",
    "2 doubled to 4 by: Test"
   ]
  },
  {
   "cell_type": "markdown",
   "metadata": {},
   "source": [
    "### Замки (Locks)\n",
    "Модуль multiprocessing поддерживает замки так же, как и модуль threading. Все что вам нужно, это импортировать Lock, повесить его, сделать что-нибудь и снять его. Давайте посмотрим:"
   ]
  },
  {
   "cell_type": "code",
   "execution_count": null,
   "metadata": {},
   "outputs": [],
   "source": [
    "from multiprocessing import Process, Lock\n",
    "\n",
    "def printer(item, lock):\n",
    "    \"\"\"\n",
    "    Выводим то что передали\n",
    "    \"\"\"\n",
    "    lock.acquire()\n",
    "    try:\n",
    "        print(item)\n",
    "    finally:\n",
    "        lock.release()\n",
    " \n",
    " \n",
    "if __name__ == '__main__':\n",
    "    lock = Lock()\n",
    "    items = ['tango', 'foxtrot', 10]\n",
    "    \n",
    "    for item in items:\n",
    "        p = Process(target=printer, args=(item, lock))\n",
    "        p.start()"
   ]
  },
  {
   "cell_type": "markdown",
   "metadata": {},
   "source": [
    "### Логирование (Logging)"
   ]
  },
  {
   "cell_type": "code",
   "execution_count": null,
   "metadata": {},
   "outputs": [],
   "source": [
    "import logging\n",
    "import multiprocessing\n",
    "from multiprocessing import Process, Lock\n",
    "\n",
    "def printer(item, lock):\n",
    "    \"\"\"\n",
    "    Выводим то что передали\n",
    "    \"\"\"\n",
    "    lock.acquire()\n",
    "    try:\n",
    "        print(item)\n",
    "    finally:\n",
    "        lock.release()\n",
    " \n",
    " \n",
    "if __name__ == '__main__':\n",
    "    lock = Lock()\n",
    "    items = ['tango', 'foxtrot', 10]\n",
    "    multiprocessing.log_to_stderr()\n",
    "    \n",
    "    logger = multiprocessing.get_logger()\n",
    "    logger.setLevel(logging.INFO)\n",
    "    \n",
    "    for item in items:\n",
    "        p = Process(target=printer, args=(item, lock))\n",
    "        p.start()"
   ]
  },
  {
   "cell_type": "markdown",
   "metadata": {},
   "source": [
    "[INFO/Process-1] child process calling self.run()\n",
    "\n",
    "tango\n",
    "\n",
    "[INFO/Process-1] process shutting down\n",
    "\n",
    "[INFO/Process-1] process exiting with exitcode 0\n",
    "\n",
    "[INFO/Process-2] child process calling self.run()\n",
    "\n",
    "[INFO/MainProcess] process shutting down\n",
    "\n",
    "foxtrot\n",
    "\n",
    "[INFO/Process-2] process shutting down\n",
    "\n",
    "[INFO/Process-3] child process calling self.run()\n",
    "\n",
    "[INFO/Process-2] process exiting with exitcode 0\n",
    "\n",
    "10\n",
    "\n",
    "[INFO/MainProcess] calling join() for process Process-3\n",
    "\n",
    "[INFO/Process-3] process shutting down\n",
    "\n",
    "[INFO/Process-3] process exiting with exitcode 0\n",
    "\n",
    "[INFO/MainProcess] calling join() for process Process-2"
   ]
  },
  {
   "cell_type": "markdown",
   "metadata": {},
   "source": [
    "## Класс Pool\n",
    "Класс Pool используется для показа пула рабочих процессов. Он включает в себя методы, которые позволяют вам разгружать задачи к рабочим процессам."
   ]
  },
  {
   "cell_type": "code",
   "execution_count": null,
   "metadata": {},
   "outputs": [],
   "source": [
    "from multiprocessing import Pool\n",
    "\n",
    "def doubler(number):\n",
    "    return number * 2\n",
    "\n",
    "if __name__ == '__main__':\n",
    "    numbers = [5, 10, 20]\n",
    "    pool = Pool(processes=3)\n",
    "    print(pool.map(doubler, numbers))"
   ]
  },
  {
   "cell_type": "markdown",
   "metadata": {},
   "source": [
    "### Связь между процессами"
   ]
  },
  {
   "cell_type": "code",
   "execution_count": null,
   "metadata": {},
   "outputs": [],
   "source": [
    "from multiprocessing import Process, Queue\n",
    "\n",
    "sentinel = -1\n",
    " \n",
    "def creator(data, q):\n",
    "    \"\"\"\n",
    "    Creates data to be consumed and waits for the consumer\n",
    "    to finish processing\n",
    "    \"\"\"\n",
    "    print('Creating data and putting it on the queue')\n",
    "    for item in data:\n",
    "        q.put(item)\n",
    " \n",
    " \n",
    "def my_consumer(q):\n",
    "    \"\"\"\n",
    "    Consumes some data and works on it\n",
    "    In this case, all it does is double the input\n",
    "    \"\"\"\n",
    "    while True:\n",
    "        data = q.get()\n",
    "        print('data found to be processed: {}'.format(data))\n",
    "    \n",
    "        processed = data * 2\n",
    "        print(processed)\n",
    "    \n",
    "        if data is sentinel:\n",
    "            break\n",
    " \n",
    " \n",
    "if __name__ == '__main__':\n",
    "    q = Queue()\n",
    "    data = [5, 10, 13, -1]\n",
    "    \n",
    "    process_one = Process(target=creator, args=(data, q))\n",
    "    process_two = Process(target=my_consumer, args=(q,))\n",
    "    \n",
    "    process_one.start()\n",
    "    process_two.start()\n",
    "    \n",
    "    q.close()\n",
    "    q.join_thread()\n",
    "    \n",
    "    process_one.join()\n",
    "    process_two.join()"
   ]
  }
 ],
 "metadata": {
  "kernelspec": {
   "display_name": "Python 3",
   "language": "python",
   "name": "python3"
  },
  "language_info": {
   "codemirror_mode": {
    "name": "ipython",
    "version": 3
   },
   "file_extension": ".py",
   "mimetype": "text/x-python",
   "name": "python",
   "nbconvert_exporter": "python",
   "pygments_lexer": "ipython3",
   "version": "3.13.1"
  }
 },
 "nbformat": 4,
 "nbformat_minor": 4
}
